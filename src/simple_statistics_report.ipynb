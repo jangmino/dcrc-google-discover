{
 "cells": [
  {
   "cell_type": "markdown",
   "metadata": {},
   "source": [
    "# 디스커버 통계 산출"
   ]
  },
  {
   "cell_type": "code",
   "execution_count": 1,
   "metadata": {},
   "outputs": [],
   "source": [
    "from matplotlib import font_manager\n",
    "from matplotlib import rc\n",
    "import pickle\n",
    "import re\n",
    "import numpy as np\n",
    "import seaborn as sns\n",
    "\n",
    "f_path = '/Library/Fonts/Arial Unicode.ttf'\n",
    "font_manager.FontProperties(fname=f_path).get_name()\n",
    "\n",
    "rc('font', family='Arial Unicode MS')"
   ]
  },
  {
   "cell_type": "code",
   "execution_count": 2,
   "metadata": {},
   "outputs": [],
   "source": [
    "import networkx as nx\n",
    "import matplotlib.pyplot as plt\n",
    "import matplotlib.font_manager as fm\n",
    "from networkx.algorithms import bipartite, community\n",
    "from networkx.algorithms.community import modularity, louvain_communities\n",
    "import matplotlib.colors as mcolors\n",
    "from collections import Counter\n",
    "import pandas as pd\n"
   ]
  },
  {
   "cell_type": "markdown",
   "metadata": {},
   "source": [
    "# 1. 로딩"
   ]
  },
  {
   "cell_type": "code",
   "execution_count": 3,
   "metadata": {},
   "outputs": [],
   "source": [
    "with open('../local_data/dynamics_attached_sheet.pkl', 'rb') as file:\n",
    "    result_based_on_today = pickle.load(file)\n",
    "    result_based_on_yesterday = pickle.load(file)"
   ]
  },
  {
   "cell_type": "code",
   "execution_count": 4,
   "metadata": {},
   "outputs": [],
   "source": [
    "testers = list(result_based_on_today.keys())"
   ]
  },
  {
   "cell_type": "markdown",
   "metadata": {},
   "source": [
    "## 일부 이상한 결과 유도하는 사용자 제외"
   ]
  },
  {
   "cell_type": "code",
   "execution_count": 5,
   "metadata": {},
   "outputs": [],
   "source": [
    "testers.remove('최병건')\n",
    "testers.remove('최지원')"
   ]
  },
  {
   "cell_type": "code",
   "execution_count": null,
   "metadata": {},
   "outputs": [],
   "source": [
    "print(testers)"
   ]
  },
  {
   "cell_type": "code",
   "execution_count": 7,
   "metadata": {},
   "outputs": [],
   "source": [
    "def make_daily_mean_adjusted_df(source_df:pd.DataFrame, tester):\n",
    "    '''\n",
    "    trial_idx 별 평균을 구한 후, 이를 뺀 값으로 보정한 메트릭을 추가함\n",
    "    *_adjusted로 추가함\n",
    "    trial_idx > 0 인 경우에만 계산함\n",
    "    '''\n",
    "    df = source_df[tester].query('trial_idx > 0').copy()\n",
    "    df = df.dropna(subset=['keywords']) # NaN 제거\n",
    "    df['trial_pos'] = df.groupby('trial_idx').cumcount()\n",
    "\n",
    "    # Calculate the mean for each trial_idx for precision, freshness, and satisfaction\n",
    "    trial_idx_means = df.groupby('trial_idx')[['precision', 'freshness', 'satisfaction']].mean()\n",
    "\n",
    "    # Merge the mean values back to the original dataset\n",
    "    df = df.merge(trial_idx_means, on='trial_idx', suffixes=('', '_mean'))\n",
    "\n",
    "    # Calculate the adjusted values by subtracting the mean values from the original values\n",
    "    df['precision_adjusted'] = df['precision'] - df['precision_mean']\n",
    "    df['freshness_adjusted'] = df['freshness'] - df['freshness_mean']\n",
    "    df['satisfaction_adjusted'] = df['satisfaction'] - df['satisfaction_mean']\n",
    "\n",
    "    return df"
   ]
  },
  {
   "cell_type": "code",
   "execution_count": 8,
   "metadata": {},
   "outputs": [],
   "source": [
    "dic_df = {tester:make_daily_mean_adjusted_df(result_based_on_today, tester) for tester in testers}"
   ]
  },
  {
   "cell_type": "code",
   "execution_count": 9,
   "metadata": {},
   "outputs": [],
   "source": [
    "metric_cols = ['precision', 'freshness', 'satisfaction']\n",
    "metric_cols_adjusted = [col + '_adjusted' for col in metric_cols]"
   ]
  },
  {
   "cell_type": "markdown",
   "metadata": {},
   "source": [
    "# 2. 분석: 개인에 노출된 카테고리 분포 비교"
   ]
  },
  {
   "cell_type": "markdown",
   "metadata": {},
   "source": [
    "카테고리 분포간 거리를 잴 수 있는 Hellinger distance 이용\n",
    "\n",
    "특징\n",
    "- 0 이면 동일\n",
    "- 1 이면 가장 상이함\n",
    "- Symmetric 함 `hellinger_distance(a, b) == hellinger_distance(b, a)`"
   ]
  },
  {
   "cell_type": "code",
   "execution_count": 10,
   "metadata": {},
   "outputs": [],
   "source": [
    "def hellinger_distance(p, q):\n",
    "    \"\"\"\n",
    "    두 categorical distribution 간의 Hellinger distance를 계산합니다.\n",
    "    \n",
    "    :param p: 첫 번째 분포 (NumPy 배열)\n",
    "    :param q: 두 번째 분포 (NumPy 배열)\n",
    "    :return: Hellinger distance (0에서 1 사이의 값)\n",
    "    \"\"\"\n",
    "    # 두 분포의 길이가 같은지 확인\n",
    "    if len(p) != len(q):\n",
    "        raise ValueError(\"두 분포의 길이가 같아야 합니다.\")\n",
    "    \n",
    "    # 각 분포의 합이 1인지 확인 (허용 오차 1e-8)\n",
    "    if not np.isclose(np.sum(p), 1, atol=1e-8) or not np.isclose(np.sum(q), 1, atol=1e-8):\n",
    "        raise ValueError(\"각 분포의 합은 1이어야 합니다.\")\n",
    "    \n",
    "    # Hellinger distance 계산\n",
    "    return np.sqrt(0.5 * np.sum((np.sqrt(p) - np.sqrt(q))**2))"
   ]
  },
  {
   "cell_type": "code",
   "execution_count": 11,
   "metadata": {},
   "outputs": [],
   "source": [
    "category_freqs = {}\n",
    "category_appeared = set() \n",
    "for tester, df in dic_df.items():\n",
    "    category_freqs[tester] = df.category.value_counts()\n",
    "    category_appeared |= set(category_freqs[tester].index)"
   ]
  },
  {
   "cell_type": "markdown",
   "metadata": {},
   "source": [
    "등장하는 총 카테고리 수: 91"
   ]
  },
  {
   "cell_type": "code",
   "execution_count": null,
   "metadata": {},
   "outputs": [],
   "source": [
    "len(category_appeared)"
   ]
  },
  {
   "cell_type": "code",
   "execution_count": 13,
   "metadata": {},
   "outputs": [],
   "source": [
    "zero_freq_category_indexes = pd.Series([0]*len(category_appeared), index=category_appeared).rename('category', inplace=True)"
   ]
  },
  {
   "cell_type": "code",
   "execution_count": 14,
   "metadata": {},
   "outputs": [],
   "source": [
    "category_distributions_dic = {}\n",
    "for tester in dic_df.keys():\n",
    "    xx = pd.merge(zero_freq_category_indexes, category_freqs[tester], left_index=True, right_index=True, how='left').fillna(0)['category_y']+0.001\n",
    "    category_distributions_dic[tester] = xx / xx.sum()"
   ]
  },
  {
   "cell_type": "markdown",
   "metadata": {},
   "source": [
    "베이스라인: 모든 테스터에 등장한 카테고리를 모두 더해서 평균 분포를 삼음"
   ]
  },
  {
   "cell_type": "code",
   "execution_count": 15,
   "metadata": {},
   "outputs": [],
   "source": [
    "\n",
    "baseline_dist = pd.concat([pd.merge(zero_freq_category_indexes, category_freqs[tester], left_index=True, right_index=True, how='left').fillna(0)['category_y'] for tester in dic_df.keys()], axis=1).sum(axis=1)+0.001\n",
    "baseline_dist /= baseline_dist.sum()"
   ]
  },
  {
   "cell_type": "code",
   "execution_count": 16,
   "metadata": {},
   "outputs": [],
   "source": [
    "n = len(testers)\n",
    "distance_matrix = np.zeros((n+1, n+1))\n",
    "\n",
    "for i in range(n):\n",
    "    for j in range(i+1, n):\n",
    "        distance_matrix[i, j] = distance_matrix[j, i] = hellinger_distance(category_distributions_dic[testers[i]], category_distributions_dic[testers[j]])\n",
    "        \n",
    "for i in range(n):\n",
    "    distance_matrix[i,n] = distance_matrix[n,i] = hellinger_distance(category_distributions_dic[testers[i]], baseline_dist)"
   ]
  },
  {
   "cell_type": "markdown",
   "metadata": {},
   "source": [
    "방법\n",
    "- 각 테스터에게 추천된 뉴스 기사의 카테고리의 빈도수를 분포화 (일자 무시, 만족도 무시)\n",
    "- 분포간 거리를 계산하여, 디스커버에 노출된 콘텐츠들이 얼마나 상이한지 측정\n",
    "- 베이스라인 분포 (테스터에게 노출된 카테고리를 모두 aggregation 한 분포)\n",
    "\n",
    "결론\n",
    "- 8명의 테스터에 노출된 콘텐츠가 상이한 것으로 관측됨\n",
    "  - 테스트간 분포 차이 > 테스트와 베이스라인 분포 차이"
   ]
  },
  {
   "cell_type": "code",
   "execution_count": null,
   "metadata": {},
   "outputs": [],
   "source": [
    "plt.figure(figsize=(5, 4))\n",
    "sns.heatmap(distance_matrix, annot=True, cmap='coolwarm', xticklabels=testers+['base'], yticklabels=testers+['base'])\n",
    "plt.title('Hellinger Distance Matrix between Testers')\n",
    "plt.xlabel('Testers')\n",
    "plt.ylabel('Testers')\n",
    "plt.tight_layout()\n",
    "plt.show()"
   ]
  },
  {
   "cell_type": "markdown",
   "metadata": {},
   "source": [
    "# 분석: 중복 추천된 기사 비중 분석"
   ]
  },
  {
   "cell_type": "markdown",
   "metadata": {},
   "source": [
    "테스트 마다 일자별로 뉴스에 할당된 핵심 키워드를 기준으로 중복 조사\n",
    "- 중복 조사 방법\n",
    "  - jaccard similarity: 두 집합을 비교하는 방법 jaccard(A, B) = |A ∩ B| / |A ∪ B|\n",
    "- 의미\n",
    "  - 중복 추천된 기사가 많다면, 그날의 각 뉴스의 유사도 평균 값이 작을 것이다 -> 반대의 경우는 크다"
   ]
  },
  {
   "cell_type": "markdown",
   "metadata": {},
   "source": [
    "## 핵심 키워드 기준"
   ]
  },
  {
   "cell_type": "code",
   "execution_count": 18,
   "metadata": {},
   "outputs": [],
   "source": [
    "from itertools import combinations\n",
    "\n",
    "def jaccard_similarity(set1, set2):\n",
    "    intersection = len(set1.intersection(set2))\n",
    "    union = len(set1.union(set2))\n",
    "    return intersection / union if union != 0 else 0\n",
    "\n",
    "def calculate_average_jaccard_similarity(group):\n",
    "    # print(group['keywords'])\n",
    "    keyword_sets = [set(keywords) for keywords in group['keywords']]\n",
    "    if len(keyword_sets) < 2:\n",
    "        return 0\n",
    "    similarities = [jaccard_similarity(set1, set2) \n",
    "                    for set1, set2 in combinations(keyword_sets, 2)]\n",
    "    return sum(similarities) / len(similarities)\n",
    "\n",
    "results = []\n",
    "\n",
    "for tester in testers:\n",
    "    result = dic_df[tester].groupby('trial_idx').apply(calculate_average_jaccard_similarity).reset_index()\n",
    "    result['tester'] = tester\n",
    "    result.columns = ['trial_idx', 'avg_jaccard_similarity', 'tester']\n",
    "    # print(result)\n",
    "    results.append(result)\n",
    "\n",
    "# print(results)"
   ]
  },
  {
   "cell_type": "code",
   "execution_count": null,
   "metadata": {},
   "outputs": [],
   "source": [
    "jaccard_similarity_df = pd.concat(results)\n",
    "\n",
    "# 시각화\n",
    "plt.figure(figsize=(6, 4))\n",
    "sns.lineplot(data=jaccard_similarity_df, x='trial_idx', y='avg_jaccard_similarity', hue='tester', marker='o')\n",
    "plt.title('Trial vs Avg Jaccard Similarity by Tester')\n",
    "plt.xlabel('Trial Index')\n",
    "plt.ylabel('Average Jaccard Similarity')\n",
    "plt.legend(title='Tester')\n",
    "plt.show()\n"
   ]
  },
  {
   "cell_type": "code",
   "execution_count": null,
   "metadata": {},
   "outputs": [],
   "source": [
    "plt.figure(figsize=(6, 4))\n",
    "sns.violinplot(x='tester', y='avg_jaccard_similarity', data=jaccard_similarity_df, palette=\"muted\", inner=\"box\")\n",
    "\n",
    "plt.title('Distribution of Avg Jaccard Similarity by Tester')\n",
    "plt.xlabel('Tester')\n",
    "plt.ylabel('Average Jaccard Similarity')\n",
    "plt.show()\n"
   ]
  },
  {
   "cell_type": "markdown",
   "metadata": {},
   "source": [
    "## 커뮤니티 기준"
   ]
  },
  {
   "cell_type": "code",
   "execution_count": 21,
   "metadata": {},
   "outputs": [],
   "source": [
    "from itertools import combinations\n",
    "\n",
    "def jaccard_similarity(set1, set2):\n",
    "    intersection = len(set1.intersection(set2))\n",
    "    union = len(set1.union(set2))\n",
    "    return intersection / union if union != 0 else 0\n",
    "\n",
    "def calculate_average_jaccard_similarity(group):\n",
    "    # print(group['keywords'])\n",
    "    keyword_sets = [set(keywords) for keywords in group['community']]\n",
    "    if len(keyword_sets) < 2:\n",
    "        return 0\n",
    "    similarities = [jaccard_similarity(set1, set2) \n",
    "                    for set1, set2 in combinations(keyword_sets, 2)]\n",
    "    return sum(similarities) / len(similarities)\n",
    "\n",
    "results = []\n",
    "\n",
    "for tester in testers:\n",
    "    result = dic_df[tester].groupby('trial_idx').apply(calculate_average_jaccard_similarity).reset_index()\n",
    "    result['tester'] = tester\n",
    "    result.columns = ['trial_idx', 'avg_jaccard_similarity', 'tester']\n",
    "    # print(result)\n",
    "    results.append(result)\n",
    "\n",
    "# print(results)"
   ]
  },
  {
   "cell_type": "code",
   "execution_count": null,
   "metadata": {},
   "outputs": [],
   "source": [
    "jaccard_similarity_df = pd.concat(results)\n",
    "\n",
    "# 시각화\n",
    "plt.figure(figsize=(6, 4))\n",
    "sns.lineplot(data=jaccard_similarity_df, x='trial_idx', y='avg_jaccard_similarity', hue='tester', marker='o')\n",
    "plt.title('Trial vs Avg Jaccard Similarity by Tester (Community)')\n",
    "plt.xlabel('Trial Index')\n",
    "plt.ylabel('Average Jaccard Similarity')\n",
    "plt.legend(title='Tester')\n",
    "plt.show()\n"
   ]
  },
  {
   "cell_type": "code",
   "execution_count": null,
   "metadata": {},
   "outputs": [],
   "source": [
    "plt.figure(figsize=(6, 4))\n",
    "sns.violinplot(x='tester', y='avg_jaccard_similarity', data=jaccard_similarity_df, palette=\"muted\", inner=\"box\")\n",
    "\n",
    "plt.title('Distribution of Avg Jaccard Similarity by Tester (Community)')\n",
    "plt.xlabel('Tester')\n",
    "plt.ylabel('Average Jaccard Similarity')\n",
    "plt.show()\n"
   ]
  },
  {
   "cell_type": "code",
   "execution_count": null,
   "metadata": {},
   "outputs": [],
   "source": [
    "plt.figure(figsize=(6, 4))\n",
    "# sns.lineplot(x='tester', y='avg_jaccard_similarity', data=jaccard_similarity_df, )\n",
    "sns.boxplot(x='tester', y='avg_jaccard_similarity', data=jaccard_similarity_df)\n",
    "\n",
    "plt.title('Distribution of Avg Jaccard Similarity by Tester (Community)')\n",
    "plt.xlabel('Tester')\n",
    "plt.ylabel('Average Jaccard Similarity')\n",
    "plt.show()\n"
   ]
  },
  {
   "cell_type": "markdown",
   "metadata": {},
   "source": [
    "# 분석: trial_idx 별로 메트릭 비교"
   ]
  },
  {
   "cell_type": "markdown",
   "metadata": {},
   "source": [
    "trial_idx == 7을 제외하면 각 메트릭이 거의 일정함\n"
   ]
  },
  {
   "cell_type": "code",
   "execution_count": 24,
   "metadata": {},
   "outputs": [],
   "source": [
    "\n",
    "dfs = []\n",
    "for tester, df in dic_df.items():\n",
    "    df_ = df.copy()\n",
    "    df_['tester'] = tester\n",
    "    dfs.append(df_)"
   ]
  },
  {
   "cell_type": "code",
   "execution_count": 25,
   "metadata": {},
   "outputs": [],
   "source": [
    "import matplotlib.pyplot as plt\n",
    "\n",
    "# Concatenate all dataframes excluding the two testers\n",
    "data_filtered = pd.concat(dfs)\n",
    "\n",
    "# Select relevant columns for analysis\n",
    "cleaned_data_excluded = data_filtered[['trial_idx', 'precision', 'freshness', 'satisfaction']].dropna()\n",
    "\n",
    "# Group by trial_idx and calculate mean values for precision, freshness, and satisfaction\n",
    "trial_analysis_excluded = cleaned_data_excluded.groupby('trial_idx').mean()[['precision', 'freshness', 'satisfaction']]\n",
    "\n",
    "# # Plot the values for each trial_idx excluding the two testers\n",
    "# fig1 = plt.figure(figsize=(6, 4))\n",
    "# plt.plot(trial_analysis_excluded.index, trial_analysis_excluded['precision'], label='Precision', marker='o')\n",
    "# plt.fill_between(trial_analysis_excluded.index, trial_analysis_excluded['precision'] - trial_analysis_excluded['precision'].std(), trial_analysis_excluded['precision'] + trial_analysis_excluded['precision'].std(), alpha=0.3)\n",
    "# plt.title('Precision Over Trial Index (Excluding 최병건 & 최지원)')\n",
    "# plt.xlabel('Trial Index')\n",
    "# plt.ylabel('Average Precision')\n",
    "# plt.legend()\n",
    "# plt.grid(True)\n",
    "# plt.show()\n",
    "\n",
    "# fig2 = plt.figure(figsize=(6, 4))\n",
    "# plt.plot(trial_analysis_excluded.index, trial_analysis_excluded['freshness'], label='Freshness', marker='o')\n",
    "# plt.fill_between(trial_analysis_excluded.index, trial_analysis_excluded['freshness'] - trial_analysis_excluded['freshness'].std(), trial_analysis_excluded['freshness'] + trial_analysis_excluded['freshness'].std(), alpha=0.3)\n",
    "# plt.title('Freshness Over Trial Index (Excluding 최병건 & 최지원)')\n",
    "# plt.xlabel('Trial Index')\n",
    "# plt.ylabel('Average Freshness')\n",
    "# plt.legend()\n",
    "# plt.grid(True)\n",
    "# plt.show()\n",
    "\n",
    "# fig3 = plt.figure(figsize=(6, 4))\n",
    "# plt.plot(trial_analysis_excluded.index, trial_analysis_excluded['satisfaction'], label='Satisfaction', marker='o')\n",
    "# plt.fill_between(trial_analysis_excluded.index, trial_analysis_excluded['satisfaction'] - trial_analysis_excluded['satisfaction'].std(), trial_analysis_excluded['satisfaction'] + trial_analysis_excluded['satisfaction'].std(), alpha=0.3)\n",
    "# plt.title('Satisfaction Over Trial Index (Excluding 최병건 & 최지원)')\n",
    "# plt.xlabel('Trial Index')\n",
    "# plt.ylabel('Average Satisfaction')\n",
    "# plt.legend()\n",
    "# plt.grid(True)\n",
    "# plt.show()\n",
    "\n",
    "# plt.figure(figsize=(6, 6))\n",
    "\n",
    "# # Plot precision\n",
    "# plt.subplot(2, 1, 1)\n",
    "# sns.lineplot(data=streak_data, x='streak_count', y='precision')\n",
    "# plt.title('streak_count vs precision')\n",
    "# plt.xlabel('streak_count')\n",
    "# plt.ylabel('Precision')\n",
    "\n",
    "# # Plot satisfaction\n",
    "# plt.subplot(2, 1, 2)\n",
    "# sns.lineplot(data=streak_data, x='streak_count', y='satisfaction')\n",
    "# plt.title('streak_count vs satisfaction')\n",
    "# plt.xlabel('streak_count')\n",
    "# plt.ylabel('Satisfaction')\n",
    "\n",
    "# plt.tight_layout()\n",
    "# plt.show()\n"
   ]
  },
  {
   "cell_type": "code",
   "execution_count": null,
   "metadata": {},
   "outputs": [],
   "source": [
    "plt.figure(figsize=(10, 4))\n",
    "\n",
    "# Plot precision\n",
    "plt.subplot(1, 3, 1)\n",
    "sns.lineplot(data=cleaned_data_excluded, x='trial_idx', y='precision', errorbar=\"sd\")\n",
    "plt.title('Trial Index vs Precision')\n",
    "plt.xlabel('Trial Index')\n",
    "plt.ylabel('Precision')\n",
    "\n",
    "# Plot freshness\n",
    "plt.subplot(1, 3, 2)\n",
    "sns.lineplot(data=cleaned_data_excluded, x='trial_idx', y='freshness', errorbar=\"sd\")\n",
    "plt.title('Trial Index vs Freshness')\n",
    "plt.xlabel('Trial Index')\n",
    "plt.ylabel('Freshness')\n",
    "\n",
    "# Plot satisfaction\n",
    "plt.subplot(1, 3, 3)\n",
    "sns.lineplot(data=cleaned_data_excluded, x='trial_idx', y='satisfaction', errorbar=\"sd\")\n",
    "plt.title('Trial Index vs Satisfaction')\n",
    "plt.xlabel('Trial Index')\n",
    "plt.ylabel('Satisfaction')\n",
    "\n",
    "plt.tight_layout()\n",
    "plt.show()\n"
   ]
  },
  {
   "cell_type": "markdown",
   "metadata": {},
   "source": [
    "# 분석: Community 와 Satisfaction 관계 조사"
   ]
  },
  {
   "cell_type": "markdown",
   "metadata": {},
   "source": [
    "community 마다 만족도가 차이가 큼\n",
    "\n",
    "상위\n",
    "\n",
    "```text\n",
    "(2.4.1. 글로벌 기업 동향, 8.3. 국내 축구)      8.750000\n",
    "(2.4. 산업/기업, 2.6. 경제 정책)            8.727273\n",
    "(3.3. 노동, 6.1. 아시아/호주)              8.666667\n",
    "(1.2.1. 외교/국제관계, 2.4. 산업/기업)        8.666667\n",
    "(1.2.1. 외교/국제관계, 1.4.4. 테러리즘)       8.333333\n",
    "```\n",
    "\n",
    "하위\n",
    "\n",
    "```text\n",
    "(7.5. 애니메이션/웹툰,)                                    3.000000\n",
    "(3.1. 사건사고, 7.2. 방송/드라마, 7.3. 음악, 7.4. 스타/연예인)      2.760000\n",
    "(2.1.1. 글로벌 금융시장, 7.2. 방송/드라마, 7.4. 스타/연예인)         2.727273\n",
    "(4.8. 육아/교육, 7.4. 스타/연예인)                           2.666667\n",
    "(8.8. e스포츠,)                                        2.333333\n",
    "(13.1. 정치인,)                                        1.000000\n",
    "```\n",
    "\n",
    "\n",
    "6인 모두에게 등장하는 community로 제한시\n",
    "\n",
    "```text\n",
    "(2.6. 경제 정책,)          7.190476\n",
    "(1.2.1. 외교/국제관계,)      6.285714\n",
    "(2.1. 금융,)             6.222222\n",
    "(1.4.2. 무기/방위산업,)      6.142857\n",
    "(4.1. 건강,)             6.025806\n",
    "(3.1. 사건사고,)           5.939759\n",
    "(5.1. 모바일,)            5.769231\n",
    "(3.3. 노동,)             5.702703\n",
    "(2.3. 부동산,)            5.661538\n",
    "(4.4. 여행/레저,)          5.493671\n",
    "(4.9. 반려동물,)           5.350000\n",
    "(8.4. 해외 축구,)          5.319444\n",
    "(3.2. 교육,)             5.272727\n",
    "(5.2. 인터넷/SNS,)        5.238095\n",
    "(2.2. 증권/주식,)          5.210526\n",
    "(4.2. 요리/맛집,)          5.102564\n",
    "(4.5. 자동차,)            5.000000\n",
    "(4.10. 취미/DIY,)        4.895833\n",
    "(5.5. 과학 일반,)          4.857143\n",
    "(1.1.2. 국회/입법부,)       4.846154\n",
    "(4.3. 패션/뷰티,)          4.259740\n",
    "(1.1.1. 청와대/행정부,)      4.259259\n",
    "(4.11. 웨딩/결혼,)         3.818182\n",
    "(5.8. 블록체인/가상화폐,)      3.500000\n",
    "(7.2. 방송/드라마,)         3.405405\n",
    "```"
   ]
  },
  {
   "cell_type": "code",
   "execution_count": null,
   "metadata": {},
   "outputs": [],
   "source": [
    "# Select relevant columns for Community and Satisfaction analysis\n",
    "community_satisfaction_data = data_filtered[['community', 'satisfaction']].dropna()\n",
    "\n",
    "# Group by community and calculate mean satisfaction\n",
    "community_satisfaction_mean = community_satisfaction_data.groupby('community').mean().sort_values(by='satisfaction', ascending=False)\n",
    "\n",
    "\n",
    "\n",
    "# Plot the community-wise satisfaction mean\n",
    "plt.figure(figsize=(12, 6))\n",
    "\n",
    "community_satisfaction_mean.plot(kind='bar', legend=False)\n",
    "plt.title('Average Satisfaction by Community')\n",
    "plt.xlabel('Community')\n",
    "plt.ylabel('Average Satisfaction')\n",
    "plt.xticks(rotation=45)\n",
    "plt.grid(True)\n",
    "plt.show()\n"
   ]
  },
  {
   "cell_type": "code",
   "execution_count": null,
   "metadata": {},
   "outputs": [],
   "source": [
    "# Separate top and bottom communities\n",
    "top_communities = community_satisfaction_mean.head(5)\n",
    "bottom_communities = community_satisfaction_mean.tail(6)\n",
    "\n",
    "print(top_communities)\n",
    "print(bottom_communities)"
   ]
  },
  {
   "cell_type": "markdown",
   "metadata": {},
   "source": [
    "## 6인 모두에게 등장하는 카테고리만 남겨서 관찰"
   ]
  },
  {
   "cell_type": "code",
   "execution_count": 29,
   "metadata": {},
   "outputs": [],
   "source": [
    "community_nusers = data_filtered.groupby('community')['tester'].nunique()\n",
    "ii = community_nusers[community_nusers >=6]"
   ]
  },
  {
   "cell_type": "code",
   "execution_count": null,
   "metadata": {},
   "outputs": [],
   "source": [
    "community_shown_to_everyone = community_satisfaction_mean.loc[ii.index].sort_values(by='satisfaction', ascending=False)\n",
    "\n",
    "# Plot the community-wise satisfaction mean\n",
    "plt.figure(figsize=(10, 2))\n",
    "\n",
    "community_shown_to_everyone.plot(kind='bar', legend=False)\n",
    "plt.title('Average Satisfaction by Community')\n",
    "plt.xlabel('Community')\n",
    "plt.ylabel('Average Satisfaction')\n",
    "plt.xticks(rotation=45)\n",
    "plt.grid(True)\n",
    "plt.show()\n",
    "\n",
    "print(community_shown_to_everyone)"
   ]
  },
  {
   "cell_type": "markdown",
   "metadata": {},
   "source": [
    "----"
   ]
  },
  {
   "cell_type": "markdown",
   "metadata": {},
   "source": [
    "# Streak_count가 높은 콘텐츠의 특징"
   ]
  },
  {
   "cell_type": "markdown",
   "metadata": {},
   "source": [
    "연속일이 증가할 수록\n",
    "- precision 감소\n",
    "- satisfaction도 감소하나 7일짜리 일때 증가\n",
    "- 신뢰구간이 넓어짐 (해당 샘플 수가 적어지므로, 불확실성 증가)"
   ]
  },
  {
   "cell_type": "code",
   "execution_count": null,
   "metadata": {},
   "outputs": [],
   "source": [
    "# Filter data for rows where 'type' is 'persisting' and streak_count is available\n",
    "streak_data = data_filtered[data_filtered['type'] == 'persisting'].dropna(subset=['streak_count', 'precision', 'freshness', 'satisfaction'])\n",
    "\n",
    "# Plot the results for precision and satisfaction over streak_count\n",
    "plt.figure(figsize=(6, 4))\n",
    "sns.lineplot(data=streak_data, x='streak_count', y='precision', label='Precision', errorbar='ci')\n",
    "sns.lineplot(data=streak_data, x='streak_count', y='satisfaction', label='Satisfaction', errorbar='ci')\n",
    "plt.title('streak_count vs precision and satisfaction')\n",
    "plt.xlabel('streak_count')\n",
    "plt.ylabel('Value')\n",
    "plt.legend()\n",
    "plt.show()\n"
   ]
  },
  {
   "cell_type": "code",
   "execution_count": null,
   "metadata": {},
   "outputs": [],
   "source": [
    "plt.figure(figsize=(8, 4))\n",
    "\n",
    "# Plot precision\n",
    "plt.subplot(1, 2, 1)\n",
    "sns.lineplot(data=streak_data, x='streak_count', y='precision', errorbar='ci')\n",
    "plt.title('streak_count vs precision')\n",
    "plt.xlabel('streak_count')\n",
    "plt.ylabel('Precision')\n",
    "\n",
    "# Plot satisfaction\n",
    "plt.subplot(1, 2, 2)\n",
    "sns.lineplot(data=streak_data, x='streak_count', y='satisfaction', errorbar='ci')\n",
    "plt.title('streak_count vs satisfaction')\n",
    "plt.xlabel('streak_count')\n",
    "plt.ylabel('Satisfaction')\n",
    "\n",
    "plt.tight_layout()\n",
    "plt.show()"
   ]
  },
  {
   "cell_type": "code",
   "execution_count": null,
   "metadata": {},
   "outputs": [],
   "source": [
    "# Group data by streak_count, community and calculate mean satisfaction for streak count 6 and 7\n",
    "streak_6_communities = streak_data[streak_data['streak_count'] == 6].groupby('community')[['satisfaction']].mean().reset_index()\n",
    "streak_7_communities = streak_data[streak_data['streak_count'] == 7].groupby('community')[['satisfaction']].mean().reset_index()\n",
    "\n",
    "# Merge the two dataframes to show communities for streak count 6 and 7 along with their satisfaction\n",
    "merged_streak_communities = pd.merge(streak_6_communities, streak_7_communities, on='community', suffixes=('_streak_6', '_streak_7'), how='outer')\n",
    "\n",
    "merged_streak_communities\n"
   ]
  },
  {
   "cell_type": "markdown",
   "metadata": {},
   "source": [
    "## 7일 동안 연속된 community의 precision, satisfaction 조사"
   ]
  },
  {
   "cell_type": "code",
   "execution_count": 44,
   "metadata": {},
   "outputs": [],
   "source": [
    "filtered_streak_data = streak_data[streak_data['community'].isin(streak_7_communities.community)]\n"
   ]
  },
  {
   "cell_type": "code",
   "execution_count": null,
   "metadata": {},
   "outputs": [],
   "source": [
    "# Plot the results for precision and satisfaction over streak_count\n",
    "plt.figure(figsize=(6, 4))\n",
    "sns.lineplot(data=filtered_streak_data, x='streak_count', y='precision', label='Precision')\n",
    "sns.lineplot(data=filtered_streak_data, x='streak_count', y='satisfaction', label='Satisfaction')\n",
    "plt.title('streak_count vs precision and satisfaction (7일 연속된 커뮤니티만)')\n",
    "plt.xlabel('streak_count')\n",
    "plt.ylabel('Value')\n",
    "plt.legend()\n",
    "plt.show()"
   ]
  },
  {
   "cell_type": "code",
   "execution_count": null,
   "metadata": {},
   "outputs": [],
   "source": [
    "# Plot the results for precision and satisfaction over streak_count\n",
    "plt.figure(figsize=(6, 4))\n",
    "sns.lineplot(data=filtered_streak_data, x='streak_count', y='precision', hue='community', errorbar=None)\n",
    "plt.title('streak_count vs precision (7일 연속된 커뮤니티만)')\n",
    "plt.xlabel('streak_count')\n",
    "plt.ylabel('Value')\n",
    "plt.legend()\n",
    "plt.show()\n"
   ]
  },
  {
   "cell_type": "code",
   "execution_count": null,
   "metadata": {},
   "outputs": [],
   "source": [
    "# Plot the results for precision and satisfaction over streak_count\n",
    "plt.figure(figsize=(6, 4))\n",
    "sns.lineplot(data=filtered_streak_data, x='streak_count', y='satisfaction', hue='community', errorbar=None)\n",
    "plt.title('streak_count vs satisfaction (7일 연속된 커뮤니티만)')\n",
    "plt.xlabel('streak_count')\n",
    "plt.ylabel('Value')\n",
    "plt.legend()\n",
    "plt.show()"
   ]
  },
  {
   "cell_type": "markdown",
   "metadata": {},
   "source": [
    "## 블록 체인의 경우만 별도로\n",
    "\n",
    "6일 연속해서 노출된 경우가 있음"
   ]
  },
  {
   "cell_type": "code",
   "execution_count": null,
   "metadata": {},
   "outputs": [],
   "source": [
    "# Filter data for the community ('5.8. 블록체인/가상화폐',) and group by streak_count\n",
    "blockchain_community_data = streak_data[streak_data['community'] == ('5.8. 블록체인/가상화폐',)]\n",
    "\n",
    "# Plot precision\n",
    "plt.figure(figsize=(6, 4))\n",
    "sns.lineplot(data=blockchain_community_data, x='streak_count', y='precision', errorbar=None)\n",
    "plt.title('streak_count vs precision')\n",
    "plt.xlabel('streak_count')\n",
    "plt.ylabel('Satisfaction')\n",
    "\n",
    "plt.tight_layout()\n",
    "plt.show()\n"
   ]
  },
  {
   "cell_type": "code",
   "execution_count": null,
   "metadata": {},
   "outputs": [],
   "source": [
    "# Filter data for the community ('5.8. 블록체인/가상화폐',) and group by streak_count\n",
    "blockchain_community_data = streak_data[streak_data['community'] == ('5.8. 블록체인/가상화폐',)]\n",
    "\n",
    "# Plot satisfaction\n",
    "plt.figure(figsize=(6, 4))\n",
    "sns.lineplot(data=blockchain_community_data, x='streak_count', y='satisfaction', errorbar=None)\n",
    "plt.title('streak_count vs satisfaction')\n",
    "plt.xlabel('streak_count')\n",
    "plt.ylabel('Satisfaction')\n",
    "\n",
    "plt.tight_layout()\n",
    "plt.show()\n"
   ]
  },
  {
   "cell_type": "markdown",
   "metadata": {},
   "source": [
    "# 콘텐츠 유형별에 따른 Precision, Freshness, Satisfaction의 차이 분석"
   ]
  },
  {
   "cell_type": "markdown",
   "metadata": {},
   "source": [
    "아주 선명하진 않지만\n",
    "- new 의 경우 freshness 가 상대적으로 높음\n",
    "- shrinking의 경우 precision이 상대적으로 높음 (관심사가 좁혀져서?)\n"
   ]
  },
  {
   "cell_type": "code",
   "execution_count": null,
   "metadata": {},
   "outputs": [],
   "source": [
    "# Group data by 'type' and calculate mean values for precision, freshness, and satisfaction\n",
    "type_analysis = data_filtered.groupby('type')[['precision', 'freshness', 'satisfaction']].mean()\n",
    "\n",
    "# Plot the results for each type\n",
    "plt.figure(figsize=(6, 4))\n",
    "\n",
    "# Plot precision, freshness, and satisfaction for each type\n",
    "type_analysis.plot(kind='bar', figsize=(10, 6), legend=True)\n",
    "plt.title('Precision, Freshness, and Satisfaction by Content Type')\n",
    "plt.xlabel('Content Type')\n",
    "plt.ylabel('Average Value')\n",
    "plt.xticks(rotation=45)\n",
    "plt.ylim(4, None)  # Set the minimum value of the y-axis to 4\n",
    "plt.grid(True)\n",
    "plt.show()\n"
   ]
  },
  {
   "cell_type": "markdown",
   "metadata": {},
   "source": [
    "---\n"
   ]
  },
  {
   "cell_type": "markdown",
   "metadata": {},
   "source": [
    "# 분석: 같은 커뮤니티 내 만족도 차이 vs 다른 커뮤니티 끼리 만족도 차이가 다른지"
   ]
  },
  {
   "cell_type": "markdown",
   "metadata": {},
   "source": [
    "인덱스 초기화 필요"
   ]
  },
  {
   "cell_type": "code",
   "execution_count": 66,
   "metadata": {},
   "outputs": [],
   "source": [
    "data_filtered.reset_index(drop=True, inplace=True)"
   ]
  },
  {
   "cell_type": "code",
   "execution_count": 67,
   "metadata": {},
   "outputs": [],
   "source": [
    "# Initialize a list to store satisfaction differences for the same community\n",
    "satisfaction_differences = []\n",
    "\n",
    "# Group by trial_idx for analysis\n",
    "grouped_trials = data_filtered.groupby('tester')\n",
    "\n",
    "# Iterate over each trial and calculate satisfaction differences for the same community\n",
    "for tester, trial_data in grouped_trials:\n",
    "    for (i, j) in combinations(trial_data.index, 2):\n",
    "        if trial_data.loc[i, 'community'] == trial_data.loc[j, 'community']:\n",
    "            satisfaction_diff = abs(trial_data.loc[i, 'satisfaction'] - trial_data.loc[j, 'satisfaction'])\n",
    "            satisfaction_differences.append({\n",
    "                'tester': tester,\n",
    "                'satisfaction_diff': satisfaction_diff\n",
    "            })\n",
    "\n",
    "# Convert the results to a DataFrame for analysis and visualization\n",
    "satisfaction_diff_df = pd.DataFrame(satisfaction_differences)"
   ]
  },
  {
   "cell_type": "code",
   "execution_count": null,
   "metadata": {},
   "outputs": [],
   "source": [
    "plt.figure(figsize=(6, 4))\n",
    "sns.boxplot(data=satisfaction_diff_df, x='tester', y='satisfaction_diff')\n",
    "plt.title('Satisfaction Differences Distribution by tester (Same Community)')\n",
    "plt.xlabel('Trial Index')\n",
    "plt.ylabel('Satisfaction Difference')\n",
    "plt.show()\n"
   ]
  },
  {
   "cell_type": "code",
   "execution_count": null,
   "metadata": {},
   "outputs": [],
   "source": [
    "satisfaction_diff_df.groupby('tester').describe()"
   ]
  },
  {
   "cell_type": "code",
   "execution_count": 70,
   "metadata": {},
   "outputs": [],
   "source": [
    "# Initialize a list to store satisfaction differences between different communities\n",
    "satisfaction_differences = []\n",
    "\n",
    "# Group by trial_idx for analysis\n",
    "grouped_trials = data_filtered.groupby('tester')\n",
    "\n",
    "# Iterate over each trial and calculate satisfaction differences between different communities\n",
    "for tester, trial_data in grouped_trials:\n",
    "    for (i, j) in combinations(trial_data.index, 2):\n",
    "        if trial_data.loc[i, 'community'] != trial_data.loc[j, 'community']:\n",
    "            satisfaction_diff = abs(trial_data.loc[i, 'satisfaction'] - trial_data.loc[j, 'satisfaction'])\n",
    "            satisfaction_differences.append({\n",
    "                'tester': tester,\n",
    "                'satisfaction_diff': satisfaction_diff\n",
    "            })\n",
    "\n",
    "# Convert the results to a DataFrame for analysis and visualization\n",
    "inter_satisfaction_diff_df = pd.DataFrame(satisfaction_differences)"
   ]
  },
  {
   "cell_type": "code",
   "execution_count": null,
   "metadata": {},
   "outputs": [],
   "source": [
    "plt.figure(figsize=(6, 4))\n",
    "sns.boxplot(data=inter_satisfaction_diff_df, x='tester', y='satisfaction_diff')\n",
    "plt.title('Satisfaction Differences Distribution by tester (Same Community)')\n",
    "plt.xlabel('Trial Index')\n",
    "plt.ylabel('Satisfaction Difference')\n",
    "plt.show()\n"
   ]
  },
  {
   "cell_type": "code",
   "execution_count": null,
   "metadata": {},
   "outputs": [],
   "source": [
    "inter_satisfaction_diff_df.groupby('tester').describe()"
   ]
  },
  {
   "cell_type": "markdown",
   "metadata": {},
   "source": [
    "---\n",
    "\n"
   ]
  },
  {
   "cell_type": "code",
   "execution_count": null,
   "metadata": {},
   "outputs": [],
   "source": [
    "data_filtered.groupby(['tester'])[['precision', 'freshness', 'satisfaction']].describe().T"
   ]
  }
 ],
 "metadata": {
  "kernelspec": {
   "display_name": "metal",
   "language": "python",
   "name": "python3"
  },
  "language_info": {
   "codemirror_mode": {
    "name": "ipython",
    "version": 3
   },
   "file_extension": ".py",
   "mimetype": "text/x-python",
   "name": "python",
   "nbconvert_exporter": "python",
   "pygments_lexer": "ipython3",
   "version": "3.10.14"
  }
 },
 "nbformat": 4,
 "nbformat_minor": 2
}
