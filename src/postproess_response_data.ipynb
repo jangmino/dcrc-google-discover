{
 "cells": [
  {
   "cell_type": "markdown",
   "metadata": {},
   "source": [
    "# Postprocess the response data from the OpenAI API\n",
    "\n",
    "input: `respose_file_path`\n",
    "output: `annotated_file_path`\n",
    "\n",
    "Description\n",
    "- make the annotated dataset from the response from the OpenAI API."
   ]
  },
  {
   "cell_type": "code",
   "execution_count": 1,
   "metadata": {},
   "outputs": [],
   "source": [
    "import pandas as pd\n",
    "from datasets import Features, ClassLabel, Dataset, DatasetDict\n",
    "import json\n",
    "import re"
   ]
  },
  {
   "cell_type": "code",
   "execution_count": 2,
   "metadata": {},
   "outputs": [],
   "source": [
    "respose_file_path = r'../local_data/api_responses_for_annotated_dataset.jsonl'"
   ]
  },
  {
   "cell_type": "code",
   "execution_count": 3,
   "metadata": {},
   "outputs": [],
   "source": [
    "in_fname =  respose_file_path\n",
    "datas = []\n",
    "request_ids = []\n",
    "# results = {}\n",
    "with open(in_fname, 'r') as f:\n",
    "    for i, line in enumerate(f):\n",
    "        data = json.loads(line)\n",
    "        if isinstance(data[1] , dict):\n",
    "            # results[i] = data\n",
    "            datas.append(data[1]['choices'][0]['message']['content'])\n",
    "            request_ids.append(data[2]['request_id'])"
   ]
  },
  {
   "cell_type": "code",
   "execution_count": 4,
   "metadata": {},
   "outputs": [],
   "source": [
    "df = pd.DataFrame({'request_id': request_ids, 'response': datas})\n",
    "df['response'] = df['response'].str.split('\\n')\n",
    "df.sort_values(by='request_id', inplace=True)\n",
    "\n",
    "# response 컬럼을 펼쳐서 새로운 DataFrame 생성\n",
    "exploded_df = df.explode('response').reset_index(drop=True)\n",
    "\n",
    "# \"->\" 가 포함된 response만 남기기 (한건 제외됨)\n",
    "exploded_df = exploded_df[exploded_df['response'].str.contains('->')]"
   ]
  },
  {
   "cell_type": "code",
   "execution_count": 5,
   "metadata": {},
   "outputs": [],
   "source": [
    "# 문자열을 분리하는 함수 정의\n",
    "def split_response(response):\n",
    "    # 제목과 나머지를 분리\n",
    "    title, rest = response.split(\"->\")\n",
    "    title = title.strip()\n",
    "    \n",
    "    # 카테고리와 키워드를 분리\n",
    "    category, *keywords = rest.split(\":\")\n",
    "    category = category.strip()\n",
    "    keywords = [keyword.strip() for keyword in keywords]\n",
    "    \n",
    "    return title, category, keywords\n"
   ]
  },
  {
   "cell_type": "code",
   "execution_count": 6,
   "metadata": {},
   "outputs": [],
   "source": [
    "# DataFrame에 새로운 컬럼 추가\n",
    "exploded_df[['title', 'category', 'keywords']] = exploded_df['response'].apply(lambda x: pd.Series(split_response(x)))\n"
   ]
  },
  {
   "cell_type": "code",
   "execution_count": 7,
   "metadata": {},
   "outputs": [],
   "source": [
    "# 필요 없는 response 컬럼 제거\n",
    "exploded_df = exploded_df.drop(columns=['response'])\n",
    "\n",
    "# request_id를 'tester'와 'trial_idx', 'sub_idx'로 분리\n",
    "exploded_df[['tester', 'trial_idx', 'sub_idx']] = exploded_df['request_id'].str.split(':', expand=True)\n",
    "\n",
    "# trial_idx를 숫자형으로 변환\n",
    "exploded_df['trial_idx'] = exploded_df['trial_idx'].astype(float).astype(int)\n",
    "\n",
    "# sub_idx를 숫자형으로 변환\n",
    "exploded_df['sub_idx'] = exploded_df['sub_idx'].astype(int)\n",
    "\n",
    "# 필요 없는 request_id 컬럼 제거\n",
    "exploded_df = exploded_df.drop(columns=['request_id'])\n"
   ]
  },
  {
   "cell_type": "code",
   "execution_count": 10,
   "metadata": {},
   "outputs": [],
   "source": [
    "exploded_df.to_csv('../local_data/annotated_dataset.csv', index=False)"
   ]
  },
  {
   "cell_type": "markdown",
   "metadata": {},
   "source": [
    "----"
   ]
  },
  {
   "cell_type": "code",
   "execution_count": 17,
   "metadata": {},
   "outputs": [
    {
     "data": {
      "text/html": [
       "<div>\n",
       "<style scoped>\n",
       "    .dataframe tbody tr th:only-of-type {\n",
       "        vertical-align: middle;\n",
       "    }\n",
       "\n",
       "    .dataframe tbody tr th {\n",
       "        vertical-align: top;\n",
       "    }\n",
       "\n",
       "    .dataframe thead th {\n",
       "        text-align: right;\n",
       "    }\n",
       "</style>\n",
       "<table border=\"1\" class=\"dataframe\">\n",
       "  <thead>\n",
       "    <tr style=\"text-align: right;\">\n",
       "      <th></th>\n",
       "      <th>title</th>\n",
       "      <th>category</th>\n",
       "      <th>keywords</th>\n",
       "      <th>tester</th>\n",
       "      <th>trial_idx</th>\n",
       "      <th>sub_idx</th>\n",
       "    </tr>\n",
       "  </thead>\n",
       "  <tbody>\n",
       "    <tr>\n",
       "      <th>1168</th>\n",
       "      <td>1. 코치가 지시할 수 없는 건데…이정후 보고 배워라美 중계진 극찬, 이종범까지 소...</td>\n",
       "      <td>8.2. 해외 야구</td>\n",
       "      <td>[이정후, 이종범, 미국 중계진]</td>\n",
       "      <td>유효상</td>\n",
       "      <td>0</td>\n",
       "      <td>0</td>\n",
       "    </tr>\n",
       "    <tr>\n",
       "      <th>1169</th>\n",
       "      <td>2. “이렇게 무너질 줄이야” 아무도 몰랐다…넷플릭스발 파산 위기</td>\n",
       "      <td>2.4.1. 글로벌 기업 동향</td>\n",
       "      <td>[넷플릭스, 파산 위기]</td>\n",
       "      <td>유효상</td>\n",
       "      <td>0</td>\n",
       "      <td>0</td>\n",
       "    </tr>\n",
       "    <tr>\n",
       "      <th>1170</th>\n",
       "      <td>3. 지금 당장 휴지를 냉장고, 싱크대에 넣어보세요, 사장님이 방법을 알려줘 절약하...</td>\n",
       "      <td>4.10. 취미/DIY</td>\n",
       "      <td>[휴지, 냉장고, 싱크대]</td>\n",
       "      <td>유효상</td>\n",
       "      <td>0</td>\n",
       "      <td>0</td>\n",
       "    </tr>\n",
       "    <tr>\n",
       "      <th>1171</th>\n",
       "      <td>4. 인천 개표 지연…윤상현에 밀린 남영희 재검표 요구</td>\n",
       "      <td>1.1.4. 선거</td>\n",
       "      <td>[인천, 윤상현, 남영희]</td>\n",
       "      <td>유효상</td>\n",
       "      <td>0</td>\n",
       "      <td>0</td>\n",
       "    </tr>\n",
       "    <tr>\n",
       "      <th>1172</th>\n",
       "      <td>5. 삼성페이 업그레이드 버전 `삼성월렛` 눈길</td>\n",
       "      <td>5.4. IT 기기</td>\n",
       "      <td>[삼성페이, 삼성월렛]</td>\n",
       "      <td>유효상</td>\n",
       "      <td>0</td>\n",
       "      <td>0</td>\n",
       "    </tr>\n",
       "    <tr>\n",
       "      <th>...</th>\n",
       "      <td>...</td>\n",
       "      <td>...</td>\n",
       "      <td>...</td>\n",
       "      <td>...</td>\n",
       "      <td>...</td>\n",
       "      <td>...</td>\n",
       "    </tr>\n",
       "    <tr>\n",
       "      <th>1538</th>\n",
       "      <td>39. 30분 더 일찍 일어나는 부자들… 아침 루틴 봤더니 ‘이것’ 즐겼다</td>\n",
       "      <td>4.1. 건강</td>\n",
       "      <td>[부자, 아침 루틴]</td>\n",
       "      <td>유효상</td>\n",
       "      <td>7</td>\n",
       "      <td>12</td>\n",
       "    </tr>\n",
       "    <tr>\n",
       "      <th>1539</th>\n",
       "      <td>40. 5연패' 한화, 끝없는 추락…이젠 최하위가 눈앞</td>\n",
       "      <td>8.1. 국내 야구</td>\n",
       "      <td>[한화, 5연패]</td>\n",
       "      <td>유효상</td>\n",
       "      <td>7</td>\n",
       "      <td>12</td>\n",
       "    </tr>\n",
       "    <tr>\n",
       "      <th>1540</th>\n",
       "      <td>41. 정몽규 체제가 낳은 한국 축구 대재앙…40년 공든 탑 무너졌다</td>\n",
       "      <td>8.3. 국내 축구</td>\n",
       "      <td>[정몽규, 한국 축구]</td>\n",
       "      <td>유효상</td>\n",
       "      <td>7</td>\n",
       "      <td>12</td>\n",
       "    </tr>\n",
       "    <tr>\n",
       "      <th>1541</th>\n",
       "      <td>42. 40년만 올림픽 예선 탈락' 황선홍 감독 \"대표팀 시스템 바뀌어야, 대회 준...</td>\n",
       "      <td>8.3. 국내 축구</td>\n",
       "      <td>[황선홍, 올림픽 예선]</td>\n",
       "      <td>유효상</td>\n",
       "      <td>7</td>\n",
       "      <td>12</td>\n",
       "    </tr>\n",
       "    <tr>\n",
       "      <th>1542</th>\n",
       "      <td>43. 빠르게 식은 비트코인 열기…세계 최대 자산운용사 현물 ETF 순유입액 첫 ‘0’</td>\n",
       "      <td>5.8. 블록체인/가상화폐</td>\n",
       "      <td>[비트코인, 자산운용사, ETF]</td>\n",
       "      <td>유효상</td>\n",
       "      <td>7</td>\n",
       "      <td>12</td>\n",
       "    </tr>\n",
       "  </tbody>\n",
       "</table>\n",
       "<p>374 rows × 6 columns</p>\n",
       "</div>"
      ],
      "text/plain": [
       "                                                  title          category  \\\n",
       "1168  1. 코치가 지시할 수 없는 건데…이정후 보고 배워라美 중계진 극찬, 이종범까지 소...        8.2. 해외 야구   \n",
       "1169               2. “이렇게 무너질 줄이야” 아무도 몰랐다…넷플릭스발 파산 위기  2.4.1. 글로벌 기업 동향   \n",
       "1170  3. 지금 당장 휴지를 냉장고, 싱크대에 넣어보세요, 사장님이 방법을 알려줘 절약하...      4.10. 취미/DIY   \n",
       "1171                     4. 인천 개표 지연…윤상현에 밀린 남영희 재검표 요구         1.1.4. 선거   \n",
       "1172                         5. 삼성페이 업그레이드 버전 `삼성월렛` 눈길        5.4. IT 기기   \n",
       "...                                                 ...               ...   \n",
       "1538          39. 30분 더 일찍 일어나는 부자들… 아침 루틴 봤더니 ‘이것’ 즐겼다           4.1. 건강   \n",
       "1539                     40. 5연패' 한화, 끝없는 추락…이젠 최하위가 눈앞        8.1. 국내 야구   \n",
       "1540             41. 정몽규 체제가 낳은 한국 축구 대재앙…40년 공든 탑 무너졌다        8.3. 국내 축구   \n",
       "1541  42. 40년만 올림픽 예선 탈락' 황선홍 감독 \"대표팀 시스템 바뀌어야, 대회 준...        8.3. 국내 축구   \n",
       "1542   43. 빠르게 식은 비트코인 열기…세계 최대 자산운용사 현물 ETF 순유입액 첫 ‘0’    5.8. 블록체인/가상화폐   \n",
       "\n",
       "                keywords tester  trial_idx  sub_idx  \n",
       "1168  [이정후, 이종범, 미국 중계진]    유효상          0        0  \n",
       "1169       [넷플릭스, 파산 위기]    유효상          0        0  \n",
       "1170      [휴지, 냉장고, 싱크대]    유효상          0        0  \n",
       "1171      [인천, 윤상현, 남영희]    유효상          0        0  \n",
       "1172        [삼성페이, 삼성월렛]    유효상          0        0  \n",
       "...                  ...    ...        ...      ...  \n",
       "1538         [부자, 아침 루틴]    유효상          7       12  \n",
       "1539           [한화, 5연패]    유효상          7       12  \n",
       "1540        [정몽규, 한국 축구]    유효상          7       12  \n",
       "1541       [황선홍, 올림픽 예선]    유효상          7       12  \n",
       "1542  [비트코인, 자산운용사, ETF]    유효상          7       12  \n",
       "\n",
       "[374 rows x 6 columns]"
      ]
     },
     "execution_count": 17,
     "metadata": {},
     "output_type": "execute_result"
    }
   ],
   "source": [
    "exploded_df.query('tester.str.contains(\"유효상\")')"
   ]
  },
  {
   "cell_type": "code",
   "execution_count": 15,
   "metadata": {},
   "outputs": [
    {
     "data": {
      "text/html": [
       "<div>\n",
       "<style scoped>\n",
       "    .dataframe tbody tr th:only-of-type {\n",
       "        vertical-align: middle;\n",
       "    }\n",
       "\n",
       "    .dataframe tbody tr th {\n",
       "        vertical-align: top;\n",
       "    }\n",
       "\n",
       "    .dataframe thead th {\n",
       "        text-align: right;\n",
       "    }\n",
       "</style>\n",
       "<table border=\"1\" class=\"dataframe\">\n",
       "  <thead>\n",
       "    <tr style=\"text-align: right;\">\n",
       "      <th></th>\n",
       "      <th>title</th>\n",
       "      <th>category</th>\n",
       "      <th>keywords</th>\n",
       "      <th>tester</th>\n",
       "      <th>trial_idx</th>\n",
       "      <th>sub_idx</th>\n",
       "    </tr>\n",
       "  </thead>\n",
       "  <tbody>\n",
       "    <tr>\n",
       "      <th>1351</th>\n",
       "      <td>19. 이정후의 Perfect Day'… 안방 첫 홈런에 + 쐐기 2루타까지 #SP...</td>\n",
       "      <td>8.1. 국내 야구</td>\n",
       "      <td>[이정후, 홈런, 2루타]</td>\n",
       "      <td>유효상</td>\n",
       "      <td>4</td>\n",
       "      <td>6</td>\n",
       "    </tr>\n",
       "  </tbody>\n",
       "</table>\n",
       "</div>"
      ],
      "text/plain": [
       "                                                  title    category  \\\n",
       "1351  19. 이정후의 Perfect Day'… 안방 첫 홈런에 + 쐐기 2루타까지 #SP...  8.1. 국내 야구   \n",
       "\n",
       "            keywords tester  trial_idx  sub_idx  \n",
       "1351  [이정후, 홈런, 2루타]    유효상          4        6  "
      ]
     },
     "execution_count": 15,
     "metadata": {},
     "output_type": "execute_result"
    }
   ],
   "source": [
    "exploded_df.query('tester.str.contains(\"유효상\") and title.str.contains(\"이정후의 Perfect\")')"
   ]
  }
 ],
 "metadata": {
  "kernelspec": {
   "display_name": "metal",
   "language": "python",
   "name": "python3"
  },
  "language_info": {
   "codemirror_mode": {
    "name": "ipython",
    "version": 3
   },
   "file_extension": ".py",
   "mimetype": "text/x-python",
   "name": "python",
   "nbconvert_exporter": "python",
   "pygments_lexer": "ipython3",
   "version": "3.10.14"
  }
 },
 "nbformat": 4,
 "nbformat_minor": 2
}
